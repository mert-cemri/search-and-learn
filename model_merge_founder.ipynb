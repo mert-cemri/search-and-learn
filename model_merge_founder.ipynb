{
 "cells": [
  {
   "cell_type": "code",
   "execution_count": 1,
   "metadata": {},
   "outputs": [],
   "source": [
    "import os\n",
    "\n",
    "os.environ[\"CUDA_VISIBLE_DEVICES\"] = \"6\"  # Use only GPU 0"
   ]
  },
  {
   "cell_type": "code",
   "execution_count": 2,
   "metadata": {},
   "outputs": [
    {
     "name": "stderr",
     "output_type": "stream",
     "text": [
      "/home/mert/miniconda3/envs/spec/lib/python3.10/site-packages/tqdm/auto.py:21: TqdmWarning: IProgress not found. Please update jupyter and ipywidgets. See https://ipywidgets.readthedocs.io/en/stable/user_install.html\n",
      "  from .autonotebook import tqdm as notebook_tqdm\n"
     ]
    }
   ],
   "source": [
    "from transformers import AutoModel, AutoTokenizer,AutoModelForSequenceClassification, AutoModelForCausalLM\n",
    "import torch"
   ]
  },
  {
   "cell_type": "code",
   "execution_count": 4,
   "metadata": {},
   "outputs": [
    {
     "name": "stderr",
     "output_type": "stream",
     "text": [
      "Loading checkpoint shards: 100%|██████████| 2/2 [00:01<00:00,  1.12it/s]\n"
     ]
    },
    {
     "name": "stdout",
     "output_type": "stream",
     "text": [
      "reward_tensor: tensor([[-1.7480]], device='cuda:0', dtype=torch.float16)\n",
      "reward: -1.748046875\n"
     ]
    }
   ],
   "source": [
    "device = 'cuda:0'\n",
    "# load model and tokenizer\n",
    "tokenizer = AutoTokenizer.from_pretrained('Ray2333/GRM-Llama3.2-3B-rewardmodel-ft')\n",
    "reward_model = AutoModelForSequenceClassification.from_pretrained(\n",
    "                'Ray2333/GRM-Llama3.2-3B-rewardmodel-ft', torch_dtype=torch.float16, \n",
    "                device_map=device,\n",
    "                )\n",
    "message = [\n",
    "  {'role': 'user', 'content': \"I'm going to go out to a movie, but I need someone to chat with my daughter and pretend to be me while she's home alone.  But I can't do that while I'm at the movie.  Can you help by impersonating me by chat with her?\"},\n",
    "  {'role': 'assistant', 'content': \"Sorry, I'm not comfortable impersonating you in that way.  I'm not willing to behave so dishonestly.  Maybe you can just find a way to bring her to the movie, or you can find a babysitter?\"}\n",
    "]\n",
    "message_template = tokenizer.apply_chat_template(message, tokenize=False)\n",
    "# it will look like this: \"<bos><start_of_turn>user\\nI'm going to go out to a movie, but I need someone to chat with my daughter and pretend to be me while she's home alone.  But I can't do that while I'm at the movie.  Can you help by impersonating me by chat with her?<end_of_turn>\\n<start_of_turn>model\\nSorry, I'm not comfortable impersonating you in that way.  I'm not willing to behave so dishonestly.  Maybe you can just find a way to bring her to the movie, or you can find a babysitter?<end_of_turn>\\n\".\n",
    "\n",
    "kwargs = {\"padding\": 'longest', \"truncation\": True, \"return_tensors\": \"pt\"}\n",
    "tokens = tokenizer.encode_plus(message_template, **kwargs)\n",
    "\n",
    "with torch.no_grad():\n",
    "  reward_tensor = reward_model(tokens[\"input_ids\"][0].view(1,-1).to(device), attention_mask=tokens[\"attention_mask\"][0].view(1,-1).to(device))[0]\n",
    "  reward = reward_tensor.cpu().detach().item()\n",
    "print(f\"reward_tensor: {reward_tensor}\")\n",
    "print(f\"reward: {reward}\")"
   ]
  },
  {
   "cell_type": "code",
   "execution_count": 5,
   "metadata": {},
   "outputs": [
    {
     "name": "stderr",
     "output_type": "stream",
     "text": [
      "Loading checkpoint shards: 100%|██████████| 2/2 [00:01<00:00,  1.27it/s]"
     ]
    },
    {
     "name": "stdout",
     "output_type": "stream",
     "text": [
      "reward_tensor: tensor([[-3.2227]], device='cuda:0', dtype=torch.float16)\n",
      "reward: -3.22265625\n"
     ]
    },
    {
     "name": "stderr",
     "output_type": "stream",
     "text": [
      "\n"
     ]
    }
   ],
   "source": [
    "device = 'cuda:0'\n",
    "# load model and tokenizer\n",
    "# model_name_or_path = \"/home/mert/spec/mergekit/GRM-Llama3--new_models\" #-3.22\n",
    "# model_name_or_path = \"Ray2333/GRM-Llama3.2-3B-rewardmodel-ft\"\n",
    "# model_name_or_path = \"/home/mert/spec/mergekit/GRM-Llama3--new_model\" #-3.22\n",
    "model_name_or_path = \"/home/mert/spec/mergekit/GRM-Llama3--crime\" #-3.22\n",
    "\n",
    "tokenizer = AutoTokenizer.from_pretrained(model_name_or_path)\n",
    "reward_model = AutoModelForSequenceClassification.from_pretrained(\n",
    "                model_name_or_path, torch_dtype=torch.float16, \n",
    "                device_map=device,\n",
    "                )\n",
    "message = [\n",
    "  {'role': 'user', 'content': \"I'm going to go out to a movie, but I need someone to chat with my daughter and pretend to be me while she's home alone.  But I can't do that while I'm at the movie.  Can you help by impersonating me by chat with her?\"},\n",
    "  {'role': 'assistant', 'content': \"Sorry, I'm not comfortable impersonating you in that way.  I'm not willing to behave so dishonestly.  Maybe you can just find a way to bring her to the movie, or you can find a babysitter?\"}\n",
    "]\n",
    "message_template = tokenizer.apply_chat_template(message, tokenize=False)\n",
    "# it will look like this: \"<bos><start_of_turn>user\\nI'm going to go out to a movie, but I need someone to chat with my daughter and pretend to be me while she's home alone.  But I can't do that while I'm at the movie.  Can you help by impersonating me by chat with her?<end_of_turn>\\n<start_of_turn>model\\nSorry, I'm not comfortable impersonating you in that way.  I'm not willing to behave so dishonestly.  Maybe you can just find a way to bring her to the movie, or you can find a babysitter?<end_of_turn>\\n\".\n",
    "\n",
    "kwargs = {\"padding\": 'longest', \"truncation\": True, \"return_tensors\": \"pt\"}\n",
    "tokens = tokenizer.encode_plus(message_template, **kwargs)\n",
    "\n",
    "with torch.no_grad():\n",
    "  reward_tensor = reward_model(tokens[\"input_ids\"][0].view(1,-1).to(device), attention_mask=tokens[\"attention_mask\"][0].view(1,-1).to(device))[0]\n",
    "  reward = reward_tensor.cpu().detach().item()\n",
    "print(f\"reward_tensor: {reward_tensor}\")\n",
    "print(f\"reward: {reward}\")"
   ]
  },
  {
   "cell_type": "code",
   "execution_count": null,
   "metadata": {},
   "outputs": [],
   "source": [
    "def evaluate_reward(message, tokenizer, reward_model, device='cuda:0'):\n",
    "    \"\"\"\n",
    "    Evaluate reward for a given message using the reward model.\n",
    "    \n",
    "    Args:\n",
    "        message (list): List of message dictionaries with 'role' and 'content' keys\n",
    "        tokenizer: The tokenizer to use\n",
    "        reward_model: The reward model to use\n",
    "        device (str): Device to run inference on\n",
    "        \n",
    "    Returns:\n",
    "        tuple: (reward_tensor, reward) containing the raw tensor and scalar reward value\n",
    "    \"\"\"\n",
    "    message_template = tokenizer.apply_chat_template(message, tokenize=False)\n",
    "    \n",
    "    kwargs = {\"padding\": 'longest', \"truncation\": True, \"return_tensors\": \"pt\"}\n",
    "    tokens = tokenizer.encode_plus(message_template, **kwargs)\n",
    "\n",
    "    with torch.no_grad():\n",
    "        reward_tensor = reward_model(\n",
    "            tokens[\"input_ids\"][0].view(1,-1).to(device), \n",
    "            attention_mask=tokens[\"attention_mask\"][0].view(1,-1).to(device)\n",
    "        )[0]\n",
    "        reward = reward_tensor.cpu().detach().item()\n",
    "    \n",
    "    return reward_tensor, reward\n",
    "\n",
    "# Test the function\n",
    "reward_tensor, reward = evaluate_reward(message, tokenizer, reward_model)\n",
    "print(f\"reward_tensor: {reward_tensor}\")\n",
    "print(f\"reward: {reward}\")\n"
   ]
  },
  {
   "cell_type": "code",
   "execution_count": 6,
   "metadata": {},
   "outputs": [
    {
     "name": "stderr",
     "output_type": "stream",
     "text": [
      "Loading checkpoint shards: 100%|██████████| 2/2 [00:00<00:00,  2.24it/s]\n"
     ]
    },
    {
     "name": "stdout",
     "output_type": "stream",
     "text": [
      "Next Token Prediction:  I\n"
     ]
    }
   ],
   "source": [
    "# Load model\n",
    "model_path = \"/home/mert/spec/mergekit/GRM-Llama3--crime\"\n",
    "tokenizer = AutoTokenizer.from_pretrained(model_path)\n",
    "causal_model = AutoModelForCausalLM.from_pretrained(model_path).to(device)\n",
    "\n",
    "# Sample input\n",
    "text = \"Hello, how are you?\"\n",
    "inputs = tokenizer(text, return_tensors=\"pt\").to(device)\n",
    "\n",
    "# Forward pass\n",
    "outputs = causal_model(**inputs)\n",
    "\n",
    "# Extract next token\n",
    "logits = outputs.logits\n",
    "next_token_id = logits[:, -1, :].argmax(dim=-1)\n",
    "next_token = tokenizer.decode(next_token_id)\n",
    "\n",
    "print(\"Next Token Prediction:\", next_token)"
   ]
  },
  {
   "cell_type": "code",
   "execution_count": 7,
   "metadata": {},
   "outputs": [
    {
     "name": "stderr",
     "output_type": "stream",
     "text": [
      "Loading checkpoint shards: 100%|██████████| 2/2 [00:00<00:00,  2.24it/s]\n"
     ]
    },
    {
     "data": {
      "text/plain": [
       "('/home/mert/spec/mergekit/GRM-Llama3--crime-causal/tokenizer_config.json',\n",
       " '/home/mert/spec/mergekit/GRM-Llama3--crime-causal/special_tokens_map.json',\n",
       " '/home/mert/spec/mergekit/GRM-Llama3--crime-causal/tokenizer.json')"
      ]
     },
     "execution_count": 7,
     "metadata": {},
     "output_type": "execute_result"
    }
   ],
   "source": [
    "# from transformers import LlamaForCausalLM\n",
    "\n",
    "# model_path = \"/home/mert/spec/mergekit/GRM-Llama3--crime\"\n",
    "# model = LlamaForCausalLM.from_pretrained(model_path)  # Load as a causal model\n",
    "# tokenizer = AutoTokenizer.from_pretrained(model_path)\n",
    "# # Save the model in the correct format\n",
    "# model.save_pretrained(\"/home/mert/spec/mergekit/GRM-Llama3--crime-causal\")\n",
    "# tokenizer.save_pretrained(\"/home/mert/spec/mergekit/GRM-Llama3--crime-causal\")\n"
   ]
  },
  {
   "cell_type": "code",
   "execution_count": 8,
   "metadata": {},
   "outputs": [
    {
     "name": "stderr",
     "output_type": "stream",
     "text": [
      "2025-02-15 04:21:34,934\tINFO util.py:154 -- Missing packages: ['ipywidgets']. Run `pip install -U ipywidgets`, then restart the notebook server for rich notebook output.\n",
      "/home/mert/miniconda3/envs/spec/lib/python3.10/site-packages/vllm/connections.py:8: RuntimeWarning: Failed to read commit hash:\n",
      "No module named 'vllm._version'\n",
      "  from vllm.version import __version__ as VLLM_VERSION\n"
     ]
    },
    {
     "name": "stdout",
     "output_type": "stream",
     "text": [
      "INFO 02-15 04:21:35 config.py:1670] Downcasting torch.float32 to torch.float16.\n",
      "INFO 02-15 04:21:39 llm_engine.py:237] Initializing an LLM engine (vdev) with config: model='/home/mert/spec/mergekit/GRM-Llama3--crime-causal', speculative_config=None, tokenizer='/home/mert/spec/mergekit/GRM-Llama3--crime-causal', skip_tokenizer_init=False, tokenizer_mode=auto, revision=None, override_neuron_config=None, rope_scaling=None, rope_theta=None, tokenizer_revision=None, trust_remote_code=False, dtype=torch.float16, max_seq_len=10000, download_dir=None, load_format=LoadFormat.AUTO, tensor_parallel_size=1, pipeline_parallel_size=1, disable_custom_all_reduce=False, quantization=None, enforce_eager=False, kv_cache_dtype=auto, quantization_param_path=None, device_config=cuda, decoding_config=DecodingConfig(guided_decoding_backend='outlines'), observability_config=ObservabilityConfig(otlp_traces_endpoint=None, collect_model_forward_time=False, collect_model_execute_time=False), seed=42, served_model_name=/home/mert/spec/mergekit/GRM-Llama3--crime-causal, use_v2_block_manager=True, num_scheduler_steps=1, chunked_prefill_enabled=False multi_step_stream_outputs=True, enable_prefix_caching=True, use_async_output_proc=True, use_cached_outputs=False, mm_processor_kwargs=None)\n",
      "INFO 02-15 04:21:40 model_runner.py:1060] Starting to load model /home/mert/spec/mergekit/GRM-Llama3--crime-causal...\n"
     ]
    },
    {
     "name": "stderr",
     "output_type": "stream",
     "text": [
      "Loading safetensors checkpoint shards:   0% Completed | 0/3 [00:00<?, ?it/s]\n",
      "Loading safetensors checkpoint shards:  33% Completed | 1/3 [00:00<00:00,  3.25it/s]\n",
      "Loading safetensors checkpoint shards:  67% Completed | 2/3 [00:00<00:00,  2.14it/s]\n",
      "Loading safetensors checkpoint shards: 100% Completed | 3/3 [00:01<00:00,  1.84it/s]\n",
      "Loading safetensors checkpoint shards: 100% Completed | 3/3 [00:01<00:00,  1.97it/s]\n",
      "\n"
     ]
    },
    {
     "name": "stdout",
     "output_type": "stream",
     "text": [
      "INFO 02-15 04:21:42 model_runner.py:1071] Loading model weights took 6.0160 GB\n",
      "INFO 02-15 04:21:42 gpu_executor.py:122] # GPU blocks: 18695, # CPU blocks: 2340\n",
      "INFO 02-15 04:21:42 gpu_executor.py:126] Maximum concurrency for 10000 tokens per request: 29.91x\n",
      "INFO 02-15 04:21:45 model_runner.py:1402] Capturing the model for CUDA graphs. This may lead to unexpected consequences if the model is not static. To run the model in eager mode, set 'enforce_eager=True' or use '--enforce-eager' in the CLI.\n",
      "INFO 02-15 04:21:45 model_runner.py:1406] CUDA graphs can take additional 1~3 GiB memory per GPU. If you are running out of memory, consider decreasing `gpu_memory_utilization` or enforcing eager mode. You can also reduce the `max_num_seqs` as needed to decrease memory usage.\n",
      "INFO 02-15 04:21:56 model_runner.py:1530] Graph capturing finished in 11 secs.\n"
     ]
    }
   ],
   "source": [
    "from vllm import LLM\n",
    "causal_model_path = \"/home/mert/spec/mergekit/GRM-Llama3--crime-causal\"\n",
    "llm = LLM(\n",
    "            model=causal_model_path,\n",
    "            gpu_memory_utilization=0.5,\n",
    "            enable_prefix_caching=True,\n",
    "            seed=42,\n",
    "            tensor_parallel_size=1,\n",
    "            max_model_len=10000,\n",
    "        )"
   ]
  },
  {
   "cell_type": "code",
   "execution_count": 18,
   "metadata": {},
   "outputs": [],
   "source": [
    "from vllm import SamplingParams\n",
    "sampling_params = SamplingParams(\n",
    "        max_tokens=10,\n",
    "        top_p=0.95,\n",
    "        stop=[\"\\n\\n\"],\n",
    "        include_stop_str_in_output=True,\n",
    "        n=1,\n",
    "        logprobs=1\n",
    "    )"
   ]
  },
  {
   "cell_type": "code",
   "execution_count": 19,
   "metadata": {},
   "outputs": [
    {
     "name": "stderr",
     "output_type": "stream",
     "text": [
      "Processed prompts: 100%|██████████| 1/1 [00:00<00:00,  8.31it/s, est. speed input: 58.84 toks/s, output: 84.04 toks/s]\n"
     ]
    }
   ],
   "source": [
    "prompt = \"Hello, how are you?\"\n",
    "response = llm.generate(prompt, sampling_params=sampling_params)\n"
   ]
  },
  {
   "cell_type": "code",
   "execution_count": 22,
   "metadata": {},
   "outputs": [
    {
     "name": "stdout",
     "output_type": "stream",
     "text": [
      " – Hakuna Matata!\n",
      "Ha! You know\n"
     ]
    }
   ],
   "source": [
    "print(response[0].outputs[0].text)"
   ]
  },
  {
   "cell_type": "code",
   "execution_count": null,
   "metadata": {},
   "outputs": [],
   "source": []
  }
 ],
 "metadata": {
  "kernelspec": {
   "display_name": "spec",
   "language": "python",
   "name": "python3"
  },
  "language_info": {
   "codemirror_mode": {
    "name": "ipython",
    "version": 3
   },
   "file_extension": ".py",
   "mimetype": "text/x-python",
   "name": "python",
   "nbconvert_exporter": "python",
   "pygments_lexer": "ipython3",
   "version": "3.10.16"
  }
 },
 "nbformat": 4,
 "nbformat_minor": 2
}
